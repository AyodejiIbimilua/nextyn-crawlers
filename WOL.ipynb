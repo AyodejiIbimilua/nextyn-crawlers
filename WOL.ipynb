{
 "cells": [
  {
   "cell_type": "code",
   "execution_count": 1,
   "id": "eaabba4c",
   "metadata": {},
   "outputs": [],
   "source": [
    "from selenium.webdriver import Firefox, Chrome\n",
    "#from selenium.webdriver.firefox.options import Options\n",
    "from selenium.webdriver.firefox.options import Options\n",
    "from selenium.common.exceptions import TimeoutException, WebDriverException\n",
    "from selenium.webdriver.support.ui import WebDriverWait\n",
    "from selenium.webdriver.support import expected_conditions as EC\n",
    "from selenium.common.exceptions import TimeoutException, WebDriverException, NoSuchElementException, StaleElementReferenceException\n",
    "from selenium.webdriver.common.by import By\n",
    "import numpy as np\n",
    "from selenium.webdriver.common.action_chains import ActionChains\n",
    "from pandas.core.common import flatten\n",
    "import time \n",
    "from selenium.common.exceptions import TimeoutException\n",
    "import math\n",
    "import pandas as pd\n",
    "from selenium.webdriver.common.keys import Keys\n",
    "from selenium import webdriver\n",
    "from bs4 import BeautifulSoup\n",
    "options = Options()\n",
    "options.page_load_strategy = 'eager'\n",
    "#options.headless = True\n",
    "options.add_argument(\"--start-maximized\")\n",
    "options.add_argument(\"--disable-infobars\")\n",
    "options.add_argument(\"--disable-extensions\")\n",
    "#options.add_argument(\"--headless\")"
   ]
  },
  {
   "cell_type": "code",
   "execution_count": 2,
   "id": "f5d9b6b6",
   "metadata": {},
   "outputs": [],
   "source": [
    "#browser = Chrome(executable_path=\"C:\\\\Users\\\\USER\\\\Downloads\\\\chromedriver_win32\\\\chromedriver.exe\", options=options)\n",
    "browser = Firefox(options = options)"
   ]
  },
  {
   "cell_type": "code",
   "execution_count": 3,
   "id": "f09d71b2",
   "metadata": {},
   "outputs": [],
   "source": [
    "browser.get(\"https://onlinelibrary.wiley.com/\")\n",
    "browser.implicitly_wait(5)"
   ]
  },
  {
   "cell_type": "code",
   "execution_count": null,
   "id": "74edd46e",
   "metadata": {},
   "outputs": [],
   "source": [
    "search_word = \"computer\"\n",
    "browser.find_element_by_id(\"searchField1\").send_keys(search_word)\n",
    "browser.find_element_by_xpath(\"//button[@aria-label='Submit Search']\").click()\n",
    "browser.implicitly_wait(5)"
   ]
  },
  {
   "cell_type": "code",
   "execution_count": 6,
   "id": "f71223a8",
   "metadata": {},
   "outputs": [],
   "source": [
    "divs = browser.find_elements_by_xpath(\"//ul[@id='search-result']/li\")\n",
    "browser.implicitly_wait(5)"
   ]
  },
  {
   "cell_type": "code",
   "execution_count": 34,
   "id": "fccf8182",
   "metadata": {},
   "outputs": [],
   "source": [
    "author = []\n",
    "date = []\n",
    "title = []\n",
    "link = []"
   ]
  },
  {
   "cell_type": "code",
   "execution_count": 35,
   "id": "8900a391",
   "metadata": {},
   "outputs": [],
   "source": [
    "for i in divs:\n",
    "    try: \n",
    "        author_tx = i.find_element_by_xpath(\".//div[@class='meta__authors comma']\").text\n",
    "        author.append(author_tx)\n",
    "    except:\n",
    "        author.append(\"\")\n",
    "    \n",
    "    try: \n",
    "        date_tx = i.find_element_by_xpath(\".//p[@class='meta__epubDate']\").text\n",
    "        \n",
    "        date_tx = date_tx.split(\"First published: \")[1]\n",
    "        date.append(date_tx)\n",
    "    except:\n",
    "        date.append(\"\")\n",
    "        \n",
    "    try: \n",
    "        link_tx = i.find_element_by_xpath(\".//div/h2/.//a\").get_attribute(\"href\")\n",
    "        link.append(link_tx)\n",
    "    except:\n",
    "        link.append(\"\")\n",
    "        \n",
    "    try: \n",
    "        title_tx = i.find_element_by_xpath(\".//div/h2/.//a\").text\n",
    "        title.append(title_tx)\n",
    "    except:\n",
    "        title.append(\"\")"
   ]
  },
  {
   "cell_type": "code",
   "execution_count": 36,
   "id": "763b4af5",
   "metadata": {},
   "outputs": [
    {
     "data": {
      "text/plain": [
       "['Simon Kolmanič, Štefan Kohek, Borut Žalik',\n",
       " 'Jacob Palme',\n",
       " '',\n",
       " 'G.E. Palaigeorgiou, P.D. Siozos, N.I. Konstantakis, I.A. Tsoukalas',\n",
       " 'Jovan Djordjevic, Bosko Nikolic, Tanja Borozan, Aleksandar Milenković',\n",
       " '',\n",
       " '',\n",
       " '',\n",
       " '',\n",
       " '',\n",
       " '',\n",
       " '',\n",
       " '',\n",
       " 'Halit Oztekin, Feyzullah Temurtas, Ali Gulbag',\n",
       " '',\n",
       " 'Ayman Kayssi, Sanaa Sharafeddine, Houda Karaki',\n",
       " '',\n",
       " '',\n",
       " '',\n",
       " '']"
      ]
     },
     "execution_count": 36,
     "metadata": {},
     "output_type": "execute_result"
    }
   ],
   "source": [
    "author"
   ]
  },
  {
   "cell_type": "code",
   "execution_count": null,
   "id": "402da1b0",
   "metadata": {},
   "outputs": [],
   "source": []
  }
 ],
 "metadata": {
  "kernelspec": {
   "display_name": "Python 3",
   "language": "python",
   "name": "python3"
  },
  "language_info": {
   "codemirror_mode": {
    "name": "ipython",
    "version": 3
   },
   "file_extension": ".py",
   "mimetype": "text/x-python",
   "name": "python",
   "nbconvert_exporter": "python",
   "pygments_lexer": "ipython3",
   "version": "3.9.5"
  }
 },
 "nbformat": 4,
 "nbformat_minor": 5
}
