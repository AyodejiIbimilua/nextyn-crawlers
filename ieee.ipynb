{
 "cells": [
  {
   "cell_type": "code",
   "execution_count": 36,
   "id": "f8244706",
   "metadata": {},
   "outputs": [],
   "source": [
    "from selenium.webdriver import Firefox, Chrome\n",
    "#from selenium.webdriver.firefox.options import Options\n",
    "from selenium.webdriver.firefox.options import Options\n",
    "from selenium.common.exceptions import TimeoutException, WebDriverException\n",
    "from selenium.webdriver.support.ui import WebDriverWait\n",
    "from selenium.webdriver.support import expected_conditions as EC\n",
    "from selenium.common.exceptions import TimeoutException, WebDriverException, NoSuchElementException, StaleElementReferenceException\n",
    "from selenium.webdriver.common.by import By\n",
    "import numpy as np\n",
    "from selenium.webdriver.common.action_chains import ActionChains\n",
    "from pandas.core.common import flatten\n",
    "import time \n",
    "from selenium.common.exceptions import TimeoutException\n",
    "import math\n",
    "import pandas as pd\n",
    "from selenium.webdriver.common.keys import Keys\n",
    "from selenium import webdriver\n",
    "from bs4 import BeautifulSoup\n",
    "options = Options()\n",
    "options.page_load_strategy = 'eager'\n",
    "#options.headless = True\n",
    "options.add_argument(\"--start-maximized\")\n",
    "options.add_argument(\"--disable-infobars\")\n",
    "options.add_argument(\"--disable-extensions\")\n",
    "#options.add_argument(\"--headless\")"
   ]
  },
  {
   "cell_type": "code",
   "execution_count": 37,
   "id": "3dd52a69",
   "metadata": {},
   "outputs": [],
   "source": [
    "#browser = Chrome(executable_path=\"C:\\\\Users\\\\USER\\\\Downloads\\\\chromedriver_win32\\\\chromedriver.exe\", options=options)\n",
    "browser = Firefox(options = options)"
   ]
  },
  {
   "cell_type": "code",
   "execution_count": 38,
   "id": "a91363da",
   "metadata": {},
   "outputs": [],
   "source": [
    "search_word = \"biology\"\n",
    "URL = \"https://www.ieee.org/searchresults/index.html?q={}\".format(search_word)\n",
    "\n",
    "browser.get(URL)\n",
    "browser.implicitly_wait(5)"
   ]
  },
  {
   "cell_type": "code",
   "execution_count": 45,
   "id": "2cc570b6",
   "metadata": {},
   "outputs": [],
   "source": [
    "path = \"//div[@id='___gcse_0']/.//div[@class='gsc-resultsbox-visible']/div[1]/div/.//div[contains(@class, 'gsc-webResult gsc-result')]\""
   ]
  },
  {
   "cell_type": "code",
   "execution_count": 46,
   "id": "d0c2c4db",
   "metadata": {},
   "outputs": [],
   "source": [
    "elems = browser.find_elements_by_xpath(path)"
   ]
  },
  {
   "cell_type": "code",
   "execution_count": 53,
   "id": "7bc18570",
   "metadata": {},
   "outputs": [],
   "source": [
    "title = []\n",
    "link = []"
   ]
  },
  {
   "cell_type": "code",
   "execution_count": 54,
   "id": "c9a556b6",
   "metadata": {},
   "outputs": [],
   "source": [
    "for i in elems:\n",
    "        \n",
    "    try: \n",
    "        link_tx = i.find_element_by_xpath(\".//a[@class='gs-title']\").get_attribute(\"href\")\n",
    "        link.append(link_tx)\n",
    "    except:\n",
    "        link.append(\"\")\n",
    "        \n",
    "    try: \n",
    "        title_tx = i.find_element_by_xpath(\".//a[@class='gs-title']\").text\n",
    "        title.append(title_tx)\n",
    "    except:\n",
    "        title.append(\"\")"
   ]
  },
  {
   "cell_type": "code",
   "execution_count": 55,
   "id": "890279c8",
   "metadata": {},
   "outputs": [
    {
     "data": {
      "text/plain": [
       "['https://www.ieee.org/membership-catalog/productdetail/showProductDetailPage.html?product=PER212-ELE',\n",
       " 'https://www.ieee.org/membership-catalog/productdetail/showProductDetailPage.html?product=PER221-ELE',\n",
       " 'https://www.ieee.org/membership-catalog/productdetail/showProductDetailPage.html?product=PER309-PRT',\n",
       " 'https://www.embs.org/',\n",
       " 'https://embc.embs.org/2021/',\n",
       " 'https://embc.embs.org/2017/',\n",
       " 'https://ieeexplore.ieee.org/xpl/RecentIssue.jsp?punumber=8857',\n",
       " 'https://embc.embs.org/2019/',\n",
       " 'https://www.computer.org/csdl/journal/tb',\n",
       " 'https://embc.embs.org/2022/',\n",
       " 'https://embc.embs.org/2018/',\n",
       " 'https://embc.embs.org/2016/',\n",
       " 'https://www.ieee.org/membership-catalog/productdetail/showProductDetailPage.html?product=MEMEMB018']"
      ]
     },
     "execution_count": 55,
     "metadata": {},
     "output_type": "execute_result"
    }
   ],
   "source": [
    "link"
   ]
  },
  {
   "cell_type": "code",
   "execution_count": 57,
   "id": "cd40adf2",
   "metadata": {},
   "outputs": [],
   "source": [
    "data = pd.DataFrame({\n",
    "    \"title\": title,\n",
    "    \"link\": link})"
   ]
  },
  {
   "cell_type": "code",
   "execution_count": 58,
   "id": "b240e0f7",
   "metadata": {},
   "outputs": [],
   "source": [
    "data.to_csv(\"ieee.csv\", index=False)"
   ]
  },
  {
   "cell_type": "code",
   "execution_count": 59,
   "id": "434bda13",
   "metadata": {},
   "outputs": [],
   "source": [
    "browser.close()\n",
    "browser.quit()"
   ]
  }
 ],
 "metadata": {
  "kernelspec": {
   "display_name": "Python 3",
   "language": "python",
   "name": "python3"
  },
  "language_info": {
   "codemirror_mode": {
    "name": "ipython",
    "version": 3
   },
   "file_extension": ".py",
   "mimetype": "text/x-python",
   "name": "python",
   "nbconvert_exporter": "python",
   "pygments_lexer": "ipython3",
   "version": "3.9.5"
  }
 },
 "nbformat": 4,
 "nbformat_minor": 5
}
