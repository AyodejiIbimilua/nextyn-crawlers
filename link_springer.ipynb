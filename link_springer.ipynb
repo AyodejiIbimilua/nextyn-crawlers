{
 "cells": [
  {
   "cell_type": "code",
   "execution_count": 35,
   "id": "80ed1bac",
   "metadata": {},
   "outputs": [],
   "source": [
    "from selenium.webdriver import Firefox, Chrome\n",
    "#from selenium.webdriver.firefox.options import Options\n",
    "from selenium.webdriver.firefox.options import Options\n",
    "from selenium.common.exceptions import TimeoutException, WebDriverException\n",
    "from selenium.webdriver.support.ui import WebDriverWait\n",
    "from selenium.webdriver.support import expected_conditions as EC\n",
    "from selenium.common.exceptions import TimeoutException, WebDriverException, NoSuchElementException, StaleElementReferenceException\n",
    "from selenium.webdriver.common.by import By\n",
    "import numpy as np\n",
    "from selenium.webdriver.common.action_chains import ActionChains\n",
    "from pandas.core.common import flatten\n",
    "import time \n",
    "from selenium.common.exceptions import TimeoutException\n",
    "import math\n",
    "import pandas as pd\n",
    "from selenium.webdriver.common.keys import Keys\n",
    "from selenium import webdriver\n",
    "from bs4 import BeautifulSoup\n",
    "options = Options()\n",
    "options.page_load_strategy = 'eager'\n",
    "#options.headless = True\n",
    "options.add_argument(\"--start-maximized\")\n",
    "options.add_argument(\"--disable-infobars\")\n",
    "options.add_argument(\"--disable-extensions\")\n",
    "#options.add_argument(\"--headless\")"
   ]
  },
  {
   "cell_type": "code",
   "execution_count": 36,
   "id": "64bf9ead",
   "metadata": {},
   "outputs": [],
   "source": [
    "#browser = Chrome(executable_path=\"C:\\\\Users\\\\USER\\\\Downloads\\\\chromedriver_win32\\\\chromedriver.exe\", options=options)\n",
    "browser = Firefox(options = options)"
   ]
  },
  {
   "cell_type": "code",
   "execution_count": 43,
   "id": "af4f0623",
   "metadata": {},
   "outputs": [],
   "source": [
    "search_word = \"data+science\"\n",
    "URL = \"https://link.springer.com/\".format(search_word)\n",
    "\n",
    "browser.get(URL)\n",
    "browser.implicitly_wait(5)"
   ]
  },
  {
   "cell_type": "code",
   "execution_count": 44,
   "id": "1c1aa3fc",
   "metadata": {},
   "outputs": [],
   "source": [
    "browser.find_element_by_id(\"query\").send_keys(search_word)"
   ]
  },
  {
   "cell_type": "code",
   "execution_count": 53,
   "id": "096840a1",
   "metadata": {},
   "outputs": [],
   "source": [
    "browser.find_element_by_id(\"search\").click()\n",
    "browser.implicitly_wait(5)"
   ]
  },
  {
   "cell_type": "code",
   "execution_count": 47,
   "id": "696b5914",
   "metadata": {},
   "outputs": [],
   "source": [
    "browser.find_element_by_id(\"results-only-access-checkbox\").click()\n",
    "browser.implicitly_wait(5)"
   ]
  },
  {
   "cell_type": "code",
   "execution_count": 54,
   "id": "6582d787",
   "metadata": {},
   "outputs": [],
   "source": [
    "elems = browser.find_elements_by_xpath(\"//ol[@id='results-list']/.//h2/a[@class='title']\")"
   ]
  },
  {
   "cell_type": "code",
   "execution_count": 55,
   "id": "076fb857",
   "metadata": {},
   "outputs": [],
   "source": [
    "title = []\n",
    "link = []"
   ]
  },
  {
   "cell_type": "code",
   "execution_count": 56,
   "id": "7df6dd68",
   "metadata": {},
   "outputs": [],
   "source": [
    "for i in elems:\n",
    "        \n",
    "    try: \n",
    "        link_tx = i.get_attribute(\"href\")\n",
    "        link.append(link_tx)\n",
    "    except:\n",
    "        link.append(\"\")\n",
    "        \n",
    "    try: \n",
    "        title_tx = i.text\n",
    "        title.append(title_tx)\n",
    "    except:\n",
    "        title.append(\"\")"
   ]
  },
  {
   "cell_type": "code",
   "execution_count": 57,
   "id": "8458c2b7",
   "metadata": {},
   "outputs": [],
   "source": [
    "data = pd.DataFrame({\n",
    "    \"title\": title,\n",
    "    \"link\": link})"
   ]
  },
  {
   "cell_type": "code",
   "execution_count": 22,
   "id": "1ea722e1",
   "metadata": {},
   "outputs": [],
   "source": [
    "data.to_csv(\"link_springer.csv\", index=False)"
   ]
  },
  {
   "cell_type": "code",
   "execution_count": 34,
   "id": "a0449bfe",
   "metadata": {},
   "outputs": [],
   "source": [
    "browser.close()\n",
    "browser.quit()"
   ]
  }
 ],
 "metadata": {
  "kernelspec": {
   "display_name": "Python 3",
   "language": "python",
   "name": "python3"
  },
  "language_info": {
   "codemirror_mode": {
    "name": "ipython",
    "version": 3
   },
   "file_extension": ".py",
   "mimetype": "text/x-python",
   "name": "python",
   "nbconvert_exporter": "python",
   "pygments_lexer": "ipython3",
   "version": "3.9.5"
  }
 },
 "nbformat": 4,
 "nbformat_minor": 5
}
