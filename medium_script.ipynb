{
 "cells": [
  {
   "cell_type": "code",
   "execution_count": 6,
   "id": "f1f19a46",
   "metadata": {},
   "outputs": [],
   "source": [
    "from selenium.webdriver import Firefox, Chrome\n",
    "#from selenium.webdriver.firefox.options import Options\n",
    "from selenium.webdriver.firefox.options import Options\n",
    "from selenium.common.exceptions import TimeoutException, WebDriverException\n",
    "from selenium.webdriver.support.ui import WebDriverWait\n",
    "from selenium.webdriver.support import expected_conditions as EC\n",
    "from selenium.common.exceptions import TimeoutException, WebDriverException, NoSuchElementException, StaleElementReferenceException\n",
    "from selenium.webdriver.common.by import By\n",
    "import numpy as np\n",
    "from selenium.webdriver.common.action_chains import ActionChains\n",
    "from pandas.core.common import flatten\n",
    "import time \n",
    "from selenium.common.exceptions import TimeoutException\n",
    "import math\n",
    "import pandas as pd\n",
    "from selenium.webdriver.common.keys import Keys\n",
    "from selenium import webdriver\n",
    "from bs4 import BeautifulSoup\n",
    "options = Options()\n",
    "options.page_load_strategy = 'eager'\n",
    "#options.headless = True\n",
    "options.add_argument(\"--start-maximized\")\n",
    "options.add_argument(\"--disable-infobars\")\n",
    "options.add_argument(\"--disable-extensions\")\n",
    "#options.add_argument(\"--headless\")"
   ]
  },
  {
   "cell_type": "code",
   "execution_count": 7,
   "id": "803d3099",
   "metadata": {},
   "outputs": [],
   "source": [
    "#browser = Chrome(executable_path=\"C:\\\\Users\\\\USER\\\\Downloads\\\\chromedriver_win32\\\\chromedriver.exe\", options=options)\n",
    "browser = Firefox(options = options)"
   ]
  },
  {
   "cell_type": "code",
   "execution_count": 9,
   "id": "ff01a006",
   "metadata": {},
   "outputs": [],
   "source": [
    "browser.get(\"https://www.medium.com\")\n",
    "browser.implicitly_wait(5)"
   ]
  },
  {
   "cell_type": "code",
   "execution_count": 11,
   "id": "e4fbf9a1",
   "metadata": {},
   "outputs": [],
   "source": [
    "browser.find_element_by_xpath(\"//a[text()='Sign In']\").click()\n",
    "browser.implicitly_wait(5)"
   ]
  },
  {
   "cell_type": "code",
   "execution_count": 12,
   "id": "415f507f",
   "metadata": {},
   "outputs": [],
   "source": [
    "browser.find_element_by_id(\"email-susi-button-text\").click()\n",
    "browser.implicitly_wait(5)"
   ]
  },
  {
   "cell_type": "code",
   "execution_count": 14,
   "id": "654569a9",
   "metadata": {},
   "outputs": [],
   "source": [
    "browser.find_element_by_css_selector(\".ob\").send_keys(\"ayodejiibimilua4@gmail.com\")\n",
    "browser.implicitly_wait(5)"
   ]
  },
  {
   "cell_type": "code",
   "execution_count": 17,
   "id": "80d3953d",
   "metadata": {},
   "outputs": [],
   "source": [
    "browser.find_element_by_xpath(\"//button[text()='Continue']\").click()\n",
    "browser.implicitly_wait(5)"
   ]
  },
  {
   "cell_type": "code",
   "execution_count": 18,
   "id": "cbd3e857",
   "metadata": {},
   "outputs": [],
   "source": [
    "browser.get(\"https://medium.com/m/callback/email?token=f8d67b640a72&operation=login&state=medium\")\n",
    "browser.implicitly_wait(5)"
   ]
  },
  {
   "cell_type": "code",
   "execution_count": 101,
   "id": "305fcc78",
   "metadata": {},
   "outputs": [],
   "source": [
    "browser.get(\"https://medium.com/search?q=Love\")\n",
    "browser.implicitly_wait(8)"
   ]
  },
  {
   "cell_type": "code",
   "execution_count": 102,
   "id": "bcd7d8af",
   "metadata": {},
   "outputs": [],
   "source": [
    "divs = browser.find_elements_by_xpath('//div[@data-source=\"search_post\"]/div/div')"
   ]
  },
  {
   "cell_type": "code",
   "execution_count": 103,
   "id": "496da678",
   "metadata": {},
   "outputs": [],
   "source": [
    "author = []\n",
    "date = []\n",
    "title = []\n",
    "link = []"
   ]
  },
  {
   "cell_type": "code",
   "execution_count": 104,
   "id": "d39ffabd",
   "metadata": {},
   "outputs": [],
   "source": [
    "for i in divs:\n",
    "    try: \n",
    "        author_tx = i.find_element_by_xpath(\".//div[@class='u-flexCenter']/div[2]/a[1]\").text\n",
    "        author.append(author_tx)\n",
    "    except:\n",
    "        author.append(\"\")\n",
    "    \n",
    "    try: \n",
    "        date_tx = i.find_element_by_xpath(\".//time\").text\n",
    "        date.append(date_tx)\n",
    "    except:\n",
    "        date.append(\"\")\n",
    "        \n",
    "    try: \n",
    "        link_tx = i.find_element_by_xpath(\".//div[@class='postArticle-content']/a\").get_attribute(\"href\")\n",
    "        link.append(link_tx)\n",
    "    except:\n",
    "        link.append(\"\")\n",
    "        \n",
    "    try: \n",
    "        title_tx = i.find_element_by_xpath(\".//h3\").text\n",
    "        title.append(title_tx)\n",
    "    except:\n",
    "        title.append(\"\")"
   ]
  },
  {
   "cell_type": "code",
   "execution_count": 105,
   "id": "96e29312",
   "metadata": {},
   "outputs": [],
   "source": [
    "data = pd.DataFrame({\n",
    "    \"author\": author,\n",
    "    \"date\": date,\n",
    "    \"title\": title,\n",
    "    \"link\": link})"
   ]
  },
  {
   "cell_type": "code",
   "execution_count": 106,
   "id": "0010bb74",
   "metadata": {},
   "outputs": [],
   "source": [
    "data.to_csv(\"medium.csv\", index=False)"
   ]
  }
 ],
 "metadata": {
  "kernelspec": {
   "display_name": "Python 3",
   "language": "python",
   "name": "python3"
  },
  "language_info": {
   "codemirror_mode": {
    "name": "ipython",
    "version": 3
   },
   "file_extension": ".py",
   "mimetype": "text/x-python",
   "name": "python",
   "nbconvert_exporter": "python",
   "pygments_lexer": "ipython3",
   "version": "3.9.5"
  }
 },
 "nbformat": 4,
 "nbformat_minor": 5
}
