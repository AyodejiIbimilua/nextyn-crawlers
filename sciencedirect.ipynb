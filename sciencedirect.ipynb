{
 "cells": [
  {
   "cell_type": "code",
   "execution_count": 1,
   "id": "f4765919",
   "metadata": {},
   "outputs": [],
   "source": [
    "from selenium.webdriver import Firefox, Chrome\n",
    "#from selenium.webdriver.firefox.options import Options\n",
    "from selenium.webdriver.firefox.options import Options\n",
    "from selenium.common.exceptions import TimeoutException, WebDriverException\n",
    "from selenium.webdriver.support.ui import WebDriverWait\n",
    "from selenium.webdriver.support import expected_conditions as EC\n",
    "from selenium.common.exceptions import TimeoutException, WebDriverException, NoSuchElementException, StaleElementReferenceException\n",
    "from selenium.webdriver.common.by import By\n",
    "import numpy as np\n",
    "from selenium.webdriver.common.action_chains import ActionChains\n",
    "from pandas.core.common import flatten\n",
    "import time \n",
    "from selenium.common.exceptions import TimeoutException\n",
    "import math\n",
    "import pandas as pd\n",
    "from selenium.webdriver.common.keys import Keys\n",
    "from selenium import webdriver\n",
    "from bs4 import BeautifulSoup\n",
    "options = Options()\n",
    "options.page_load_strategy = 'eager'\n",
    "#options.headless = True\n",
    "options.add_argument(\"--start-maximized\")\n",
    "options.add_argument(\"--disable-infobars\")\n",
    "options.add_argument(\"--disable-extensions\")\n",
    "#options.add_argument(\"--headless\")"
   ]
  },
  {
   "cell_type": "code",
   "execution_count": 2,
   "id": "7dede507",
   "metadata": {},
   "outputs": [],
   "source": [
    "#browser = Chrome(executable_path=\"C:\\\\Users\\\\USER\\\\Downloads\\\\chromedriver_win32\\\\chromedriver.exe\", options=options)\n",
    "browser = Firefox(options = options)"
   ]
  },
  {
   "cell_type": "code",
   "execution_count": 3,
   "id": "875a7159",
   "metadata": {},
   "outputs": [],
   "source": [
    "browser.get(\"https://www.sciencedirect.com/\")\n",
    "browser.implicitly_wait(5)"
   ]
  },
  {
   "cell_type": "code",
   "execution_count": 4,
   "id": "8b17e826",
   "metadata": {},
   "outputs": [],
   "source": [
    "search = \"computer\"\n",
    "\n",
    "browser.get(\"https://www.sciencedirect.com/search?qs={}\".format(search))\n",
    "browser.implicitly_wait(6)"
   ]
  },
  {
   "cell_type": "code",
   "execution_count": 5,
   "id": "d2e49859",
   "metadata": {},
   "outputs": [],
   "source": [
    "divs = browser.find_elements_by_xpath(\"//div[@id='srp-results-list']/ol/li\")"
   ]
  },
  {
   "cell_type": "code",
   "execution_count": 6,
   "id": "6db96142",
   "metadata": {},
   "outputs": [],
   "source": [
    "author = []\n",
    "date = []\n",
    "title = []\n",
    "link = []"
   ]
  },
  {
   "cell_type": "code",
   "execution_count": 7,
   "id": "239735b6",
   "metadata": {},
   "outputs": [],
   "source": [
    "for i in divs:\n",
    "    try: \n",
    "        author_tx = i.find_element_by_xpath(\".//ol[@class='Authors hor']\").text\n",
    "        author.append(author_tx)\n",
    "    except:\n",
    "        author.append(\"\")\n",
    "    \n",
    "    try: \n",
    "        date_tx = i.find_element_by_xpath(\".//div[@class='SubType hor']/span[2]\").text\n",
    "        date.append(date_tx)\n",
    "    except:\n",
    "        date.append(\"\")\n",
    "        \n",
    "    try: \n",
    "        link_tx = i.find_element_by_xpath(\".//h2/.//a\").get_attribute(\"href\")\n",
    "        link.append(link_tx)\n",
    "    except:\n",
    "        link.append(\"\")\n",
    "        \n",
    "    try: \n",
    "        title_tx = i.find_element_by_xpath(\".//h2/.//a\").text\n",
    "        title.append(title_tx)\n",
    "    except:\n",
    "        title.append(\"\")"
   ]
  },
  {
   "cell_type": "code",
   "execution_count": 8,
   "id": "109b71bf",
   "metadata": {},
   "outputs": [],
   "source": [
    "data = pd.DataFrame({\n",
    "    \"author\": author,\n",
    "    \"date\": date,\n",
    "    \"title\": title,\n",
    "    \"link\": link})"
   ]
  },
  {
   "cell_type": "code",
   "execution_count": 9,
   "id": "1d6e1ad7",
   "metadata": {},
   "outputs": [],
   "source": [
    "data.to_csv(\"sciencedirect.csv\", index=False)"
   ]
  },
  {
   "cell_type": "code",
   "execution_count": null,
   "id": "ae6a7d7e",
   "metadata": {},
   "outputs": [],
   "source": [
    "driver.close()\n",
    "driver.quit()"
   ]
  }
 ],
 "metadata": {
  "kernelspec": {
   "display_name": "Python 3",
   "language": "python",
   "name": "python3"
  },
  "language_info": {
   "codemirror_mode": {
    "name": "ipython",
    "version": 3
   },
   "file_extension": ".py",
   "mimetype": "text/x-python",
   "name": "python",
   "nbconvert_exporter": "python",
   "pygments_lexer": "ipython3",
   "version": "3.9.5"
  }
 },
 "nbformat": 4,
 "nbformat_minor": 5
}
