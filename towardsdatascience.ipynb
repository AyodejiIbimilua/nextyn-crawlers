{
 "cells": [
  {
   "cell_type": "code",
   "execution_count": 1,
   "id": "580580d0",
   "metadata": {},
   "outputs": [],
   "source": [
    "from selenium.webdriver import Firefox, Chrome\n",
    "#from selenium.webdriver.firefox.options import Options\n",
    "from selenium.webdriver.firefox.options import Options\n",
    "from selenium.common.exceptions import TimeoutException, WebDriverException\n",
    "from selenium.webdriver.support.ui import WebDriverWait\n",
    "from selenium.webdriver.support import expected_conditions as EC\n",
    "from selenium.common.exceptions import TimeoutException, WebDriverException, NoSuchElementException, StaleElementReferenceException\n",
    "from selenium.webdriver.common.by import By\n",
    "import numpy as np\n",
    "from selenium.webdriver.common.action_chains import ActionChains\n",
    "from pandas.core.common import flatten\n",
    "import time \n",
    "from selenium.common.exceptions import TimeoutException\n",
    "import math\n",
    "import pandas as pd\n",
    "from selenium.webdriver.common.keys import Keys\n",
    "from selenium import webdriver\n",
    "from bs4 import BeautifulSoup\n",
    "options = Options()\n",
    "options.page_load_strategy = 'eager'\n",
    "#options.headless = True\n",
    "options.add_argument(\"--start-maximized\")\n",
    "options.add_argument(\"--disable-infobars\")\n",
    "options.add_argument(\"--disable-extensions\")\n",
    "#options.add_argument(\"--headless\")"
   ]
  },
  {
   "cell_type": "code",
   "execution_count": 2,
   "id": "f042e11c",
   "metadata": {},
   "outputs": [],
   "source": [
    "#browser = Chrome(executable_path=\"C:\\\\Users\\\\USER\\\\Downloads\\\\chromedriver_win32\\\\chromedriver.exe\", options=options)\n",
    "browser = Firefox(options = options)"
   ]
  },
  {
   "cell_type": "code",
   "execution_count": 4,
   "id": "0094d325",
   "metadata": {},
   "outputs": [],
   "source": [
    "browser.get(\"https://towardsdatascience.com/\")\n",
    "browser.implicitly_wait(5)"
   ]
  },
  {
   "cell_type": "code",
   "execution_count": 6,
   "id": "6c511206",
   "metadata": {},
   "outputs": [],
   "source": [
    "browser.find_element_by_xpath(\"//a[text()='Sign in']\").click()\n",
    "browser.implicitly_wait(5)"
   ]
  },
  {
   "cell_type": "code",
   "execution_count": 7,
   "id": "3e2875f9",
   "metadata": {},
   "outputs": [],
   "source": [
    "browser.find_element_by_id(\"email-susi-button-text\").click()\n",
    "browser.implicitly_wait(5)"
   ]
  },
  {
   "cell_type": "code",
   "execution_count": 10,
   "id": "34c20f02",
   "metadata": {},
   "outputs": [],
   "source": [
    "browser.find_element_by_xpath(\"//input[@aria-label='email']\").send_keys(\"ayodejiibimilua4@gmail.com\")\n",
    "browser.implicitly_wait(5)"
   ]
  },
  {
   "cell_type": "code",
   "execution_count": 11,
   "id": "f5cbf05a",
   "metadata": {},
   "outputs": [],
   "source": [
    "browser.find_element_by_xpath(\"//button[text()='Continue']\").click()\n",
    "browser.implicitly_wait(5)"
   ]
  },
  {
   "cell_type": "code",
   "execution_count": 12,
   "id": "b429e74d",
   "metadata": {},
   "outputs": [],
   "source": [
    "browser.get(\"https://medium.com/m/callback/email?token=e9087b5a7241&operation=login&state=medium&source=email-57992c4c3a03-1637833224501-auth.login------0-------------------b6781436_dd0b_415c_a354_02708e9d7800\")\n",
    "browser.implicitly_wait(5)"
   ]
  },
  {
   "cell_type": "code",
   "execution_count": 13,
   "id": "58420fe4",
   "metadata": {},
   "outputs": [],
   "source": [
    "browser.get(\"https://medium.com/search?q=Computer\")\n",
    "browser.implicitly_wait(8)\n",
    "\n",
    "divs = browser.find_elements_by_xpath('//div[@data-source=\"search_post\"]/div/div')"
   ]
  },
  {
   "cell_type": "code",
   "execution_count": 14,
   "id": "6786f51a",
   "metadata": {},
   "outputs": [],
   "source": [
    "author = []\n",
    "date = []\n",
    "title = []\n",
    "link = []"
   ]
  },
  {
   "cell_type": "code",
   "execution_count": 15,
   "id": "51c65590",
   "metadata": {},
   "outputs": [],
   "source": [
    "for i in divs:\n",
    "    try: \n",
    "        author_tx = i.find_element_by_xpath(\".//div[@class='u-flexCenter']/div[2]/a[1]\").text\n",
    "        author.append(author_tx)\n",
    "    except:\n",
    "        author.append(\"\")\n",
    "    \n",
    "    try: \n",
    "        date_tx = i.find_element_by_xpath(\".//time\").text\n",
    "        date.append(date_tx)\n",
    "    except:\n",
    "        date.append(\"\")\n",
    "        \n",
    "    try: \n",
    "        link_tx = i.find_element_by_xpath(\".//div[@class='postArticle-content']/a\").get_attribute(\"href\")\n",
    "        link.append(link_tx)\n",
    "    except:\n",
    "        link.append(\"\")\n",
    "        \n",
    "    try: \n",
    "        title_tx = i.find_element_by_xpath(\".//h3\").text\n",
    "        title.append(title_tx)\n",
    "    except:\n",
    "        title.append(\"\")"
   ]
  },
  {
   "cell_type": "code",
   "execution_count": 16,
   "id": "0ae8d096",
   "metadata": {},
   "outputs": [],
   "source": [
    "data = pd.DataFrame({\n",
    "    \"author\": author,\n",
    "    \"date\": date,\n",
    "    \"title\": title,\n",
    "    \"link\": link})"
   ]
  },
  {
   "cell_type": "code",
   "execution_count": 17,
   "id": "a085b6d4",
   "metadata": {},
   "outputs": [],
   "source": [
    "data.to_csv(\"tds.csv\", index=False)"
   ]
  }
 ],
 "metadata": {
  "kernelspec": {
   "display_name": "Python 3",
   "language": "python",
   "name": "python3"
  },
  "language_info": {
   "codemirror_mode": {
    "name": "ipython",
    "version": 3
   },
   "file_extension": ".py",
   "mimetype": "text/x-python",
   "name": "python",
   "nbconvert_exporter": "python",
   "pygments_lexer": "ipython3",
   "version": "3.9.5"
  }
 },
 "nbformat": 4,
 "nbformat_minor": 5
}
